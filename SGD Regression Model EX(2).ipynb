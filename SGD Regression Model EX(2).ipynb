{
 "cells": [
  {
   "cell_type": "code",
   "execution_count": 1,
   "metadata": {},
   "outputs": [
    {
     "name": "stdout",
     "output_type": "stream",
     "text": [
      "Predict for  [-3.17202223 -0.57192741  0.34549573 -0.96601356  0.01771803]  is  [-0.03030489]\n"
     ]
    }
   ],
   "source": [
    "import numpy as np\n",
    "from sklearn import linear_model\n",
    "X = np.random.randn(10, 5)\n",
    "y = np.random.randn(10)\n",
    "X\n",
    "y\n",
    "\n",
    "clf = linear_model.SGDRegressor( penalty = 'l2' , max_iter=1000, tol=1e-3 , loss = 'huber')\n",
    "#clf = linear_model.SGDRegressor( penalty = 'l2' , max_iter=1000, tol=1e-3 , loss = 'squared_loss')\n",
    "#clf = linear_model.SGDRegressor( penalty = 'l1' , max_iter=1000, tol=1e-3 , loss = 'huber')\n",
    "#clf = linear_model.SGDRegressor( penalty = 'l1' , max_iter=1000, tol=1e-3 , loss = 'squared_loss')\n",
    "\n",
    "clf.fit(X, y)\n",
    "clf.score(X,y)\n",
    "\n",
    "z =  np.random.randn(5)\n",
    "print('Predict for ',z , ' is ' , clf.predict(z.reshape(1,-1)))\n"
   ]
  },
  {
   "cell_type": "code",
   "execution_count": 2,
   "metadata": {},
   "outputs": [
    {
     "name": "stdout",
     "output_type": "stream",
     "text": [
      "Predict for  [ 0.77123956  0.1374271  -0.79072052 -1.27674374  1.59284554]  is  [0.66383538]\n"
     ]
    }
   ],
   "source": [
    "import numpy as np\n",
    "from sklearn import linear_model\n",
    "X = np.random.randn(10, 5)\n",
    "y = np.random.randn(10)\n",
    "X\n",
    "y\n",
    "\n",
    "#clf = linear_model.SGDRegressor( penalty = 'l2' , max_iter=1000, tol=1e-3 , loss = 'huber')\n",
    "clf = linear_model.SGDRegressor( penalty = 'l2' , max_iter=1000, tol=1e-3 , loss = 'squared_loss')\n",
    "#clf = linear_model.SGDRegressor( penalty = 'l1' , max_iter=1000, tol=1e-3 , loss = 'huber')\n",
    "#clf = linear_model.SGDRegressor( penalty = 'l1' , max_iter=1000, tol=1e-3 , loss = 'squared_loss')\n",
    "\n",
    "clf.fit(X, y)\n",
    "clf.score(X,y)\n",
    "\n",
    "z =  np.random.randn(5)\n",
    "print('Predict for ',z , ' is ' , clf.predict(z.reshape(1,-1)))\n"
   ]
  },
  {
   "cell_type": "code",
   "execution_count": 3,
   "metadata": {},
   "outputs": [
    {
     "name": "stdout",
     "output_type": "stream",
     "text": [
      "Predict for  [-0.35134394  1.2665074  -0.91327303  1.39959413  0.58454089]  is  [0.0135175]\n"
     ]
    }
   ],
   "source": [
    "import numpy as np\n",
    "from sklearn import linear_model\n",
    "X = np.random.randn(10, 5)\n",
    "y = np.random.randn(10)\n",
    "X\n",
    "y\n",
    "\n",
    "#clf = linear_model.SGDRegressor( penalty = 'l2' , max_iter=1000, tol=1e-3 , loss = 'huber')\n",
    "#clf = linear_model.SGDRegressor( penalty = 'l2' , max_iter=1000, tol=1e-3 , loss = 'squared_loss')\n",
    "clf = linear_model.SGDRegressor( penalty = 'l1' , max_iter=1000, tol=1e-3 , loss = 'huber')\n",
    "#clf = linear_model.SGDRegressor( penalty = 'l1' , max_iter=1000, tol=1e-3 , loss = 'squared_loss')\n",
    "\n",
    "clf.fit(X, y)\n",
    "clf.score(X,y)\n",
    "\n",
    "z =  np.random.randn(5)\n",
    "print('Predict for ',z , ' is ' , clf.predict(z.reshape(1,-1)))\n"
   ]
  },
  {
   "cell_type": "code",
   "execution_count": 4,
   "metadata": {},
   "outputs": [
    {
     "name": "stdout",
     "output_type": "stream",
     "text": [
      "Predict for  [ 1.36981092 -0.42820983 -1.46817504 -0.04758174 -0.13253218]  is  [0.68147233]\n"
     ]
    }
   ],
   "source": [
    "import numpy as np\n",
    "from sklearn import linear_model\n",
    "X = np.random.randn(10, 5)\n",
    "y = np.random.randn(10)\n",
    "X\n",
    "y\n",
    "\n",
    "#clf = linear_model.SGDRegressor( penalty = 'l2' , max_iter=1000, tol=1e-3 , loss = 'huber')\n",
    "#clf = linear_model.SGDRegressor( penalty = 'l2' , max_iter=1000, tol=1e-3 , loss = 'squared_loss')\n",
    "#clf = linear_model.SGDRegressor( penalty = 'l1' , max_iter=1000, tol=1e-3 , loss = 'huber')\n",
    "clf = linear_model.SGDRegressor( penalty = 'l1' , max_iter=1000, tol=1e-3 , loss = 'squared_loss')\n",
    "\n",
    "clf.fit(X, y)\n",
    "clf.score(X,y)\n",
    "\n",
    "z =  np.random.randn(5)\n",
    "print('Predict for ',z , ' is ' , clf.predict(z.reshape(1,-1)))\n"
   ]
  },
  {
   "cell_type": "code",
   "execution_count": null,
   "metadata": {},
   "outputs": [],
   "source": []
  }
 ],
 "metadata": {
  "kernelspec": {
   "display_name": "Python 3",
   "language": "python",
   "name": "python3"
  },
  "language_info": {
   "codemirror_mode": {
    "name": "ipython",
    "version": 3
   },
   "file_extension": ".py",
   "mimetype": "text/x-python",
   "name": "python",
   "nbconvert_exporter": "python",
   "pygments_lexer": "ipython3",
   "version": "3.7.4"
  }
 },
 "nbformat": 4,
 "nbformat_minor": 2
}
